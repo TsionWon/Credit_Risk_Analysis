{
 "cells": [
  {
   "cell_type": "code",
   "execution_count": 1,
   "id": "f2a50609-c75e-458a-8d09-87d8a573d12a",
   "metadata": {
    "tags": []
   },
   "outputs": [],
   "source": [
    "# Data Manipulation Libraries\n",
    "import pandas as pd \n",
    "import numpy as np\n",
    "\n",
    "# Plotting Libraries\n",
    "import seaborn as sns\n",
    "import matplotlib.pyplot as plt"
   ]
  },
  {
   "cell_type": "code",
   "execution_count": 3,
   "id": "f22ca6da-b3e8-4a6d-a27f-30834f3b2621",
   "metadata": {
    "tags": []
   },
   "outputs": [],
   "source": [
    "# Load the dataset\n",
    "data = pd.read_csv('C:\\\\Users\\\\Tsi\\\\Desktop\\\\10academy\\\\Week6\\\\data\\\\data.csv',low_memory=False)\n",
    "\n",
    "# Load variable definitions\n",
    "data_vd =  pd.read_csv('C:\\\\Users\\\\Tsi\\\\Desktop\\\\10academy\\\\Week6\\\\data\\\\Xente_Variable_Definitions.csv', low_memory=False)"
   ]
  },
  {
   "cell_type": "markdown",
   "id": "bce17078-b29a-4c9d-b1ca-cb8992b525e8",
   "metadata": {},
   "source": [
    "<h1>Overview a data</h1>"
   ]
  },
  {
   "cell_type": "code",
   "execution_count": 4,
   "id": "d790d6a6-9ac9-4c9d-9fe0-8e1b7c1eb23d",
   "metadata": {
    "tags": []
   },
   "outputs": [
    {
     "name": "stdout",
     "output_type": "stream",
     "text": [
      "First few rows of the dataset:\n",
      "         TransactionId         BatchId       AccountId       SubscriptionId  \\\n",
      "0  TransactionId_76871   BatchId_36123  AccountId_3957   SubscriptionId_887   \n",
      "1  TransactionId_73770   BatchId_15642  AccountId_4841  SubscriptionId_3829   \n",
      "2  TransactionId_26203   BatchId_53941  AccountId_4229   SubscriptionId_222   \n",
      "3    TransactionId_380  BatchId_102363   AccountId_648  SubscriptionId_2185   \n",
      "4  TransactionId_28195   BatchId_38780  AccountId_4841  SubscriptionId_3829   \n",
      "\n",
      "        CustomerId CurrencyCode  CountryCode    ProviderId     ProductId  \\\n",
      "0  CustomerId_4406          UGX          256  ProviderId_6  ProductId_10   \n",
      "1  CustomerId_4406          UGX          256  ProviderId_4   ProductId_6   \n",
      "2  CustomerId_4683          UGX          256  ProviderId_6   ProductId_1   \n",
      "3   CustomerId_988          UGX          256  ProviderId_1  ProductId_21   \n",
      "4   CustomerId_988          UGX          256  ProviderId_4   ProductId_6   \n",
      "\n",
      "      ProductCategory    ChannelId   Amount  Value  TransactionStartTime  \\\n",
      "0             airtime  ChannelId_3   1000.0   1000  2018-11-15T02:18:49Z   \n",
      "1  financial_services  ChannelId_2    -20.0     20  2018-11-15T02:19:08Z   \n",
      "2             airtime  ChannelId_3    500.0    500  2018-11-15T02:44:21Z   \n",
      "3        utility_bill  ChannelId_3  20000.0  21800  2018-11-15T03:32:55Z   \n",
      "4  financial_services  ChannelId_2   -644.0    644  2018-11-15T03:34:21Z   \n",
      "\n",
      "   PricingStrategy  FraudResult  \n",
      "0                2            0  \n",
      "1                2            0  \n",
      "2                2            0  \n",
      "3                2            0  \n",
      "4                2            0  \n",
      "\n",
      "Variable definitions:\n"
     ]
    },
    {
     "data": {
      "text/html": [
       "<div>\n",
       "<style scoped>\n",
       "    .dataframe tbody tr th:only-of-type {\n",
       "        vertical-align: middle;\n",
       "    }\n",
       "\n",
       "    .dataframe tbody tr th {\n",
       "        vertical-align: top;\n",
       "    }\n",
       "\n",
       "    .dataframe thead th {\n",
       "        text-align: right;\n",
       "    }\n",
       "</style>\n",
       "<table border=\"1\" class=\"dataframe\">\n",
       "  <thead>\n",
       "    <tr style=\"text-align: right;\">\n",
       "      <th></th>\n",
       "      <th>Column Name</th>\n",
       "      <th>Definition</th>\n",
       "    </tr>\n",
       "  </thead>\n",
       "  <tbody>\n",
       "    <tr>\n",
       "      <th>0</th>\n",
       "      <td>TransactionId</td>\n",
       "      <td>Unique �transaction identifier on platform</td>\n",
       "    </tr>\n",
       "    <tr>\n",
       "      <th>1</th>\n",
       "      <td>BatchId</td>\n",
       "      <td>Unique number assigned to a batch of transacti...</td>\n",
       "    </tr>\n",
       "    <tr>\n",
       "      <th>2</th>\n",
       "      <td>AccountId</td>\n",
       "      <td>Unique number identifying the customer on plat...</td>\n",
       "    </tr>\n",
       "    <tr>\n",
       "      <th>3</th>\n",
       "      <td>SubscriptionId</td>\n",
       "      <td>Unique number identifying the customer subscri...</td>\n",
       "    </tr>\n",
       "    <tr>\n",
       "      <th>4</th>\n",
       "      <td>CustomerId</td>\n",
       "      <td>Unique identifier attached to Account</td>\n",
       "    </tr>\n",
       "    <tr>\n",
       "      <th>5</th>\n",
       "      <td>CurrencyCode</td>\n",
       "      <td>Country currency</td>\n",
       "    </tr>\n",
       "    <tr>\n",
       "      <th>6</th>\n",
       "      <td>CountryCode</td>\n",
       "      <td>Numerical geographical code of country</td>\n",
       "    </tr>\n",
       "    <tr>\n",
       "      <th>7</th>\n",
       "      <td>ProviderId</td>\n",
       "      <td>Source provider of Item �bought.</td>\n",
       "    </tr>\n",
       "    <tr>\n",
       "      <th>8</th>\n",
       "      <td>ProductId</td>\n",
       "      <td>Item name being bought.</td>\n",
       "    </tr>\n",
       "    <tr>\n",
       "      <th>9</th>\n",
       "      <td>ProductCategory</td>\n",
       "      <td>ProductIds are organized into these broader pr...</td>\n",
       "    </tr>\n",
       "    <tr>\n",
       "      <th>10</th>\n",
       "      <td>ChannelId</td>\n",
       "      <td>Identifies if customer used web,Android, IOS, ...</td>\n",
       "    </tr>\n",
       "    <tr>\n",
       "      <th>11</th>\n",
       "      <td>Amount</td>\n",
       "      <td>Value of the transaction. Positive for debits ...</td>\n",
       "    </tr>\n",
       "    <tr>\n",
       "      <th>12</th>\n",
       "      <td>Value</td>\n",
       "      <td>Absolute value of the amount</td>\n",
       "    </tr>\n",
       "    <tr>\n",
       "      <th>13</th>\n",
       "      <td>TransactionStartTime</td>\n",
       "      <td>Transaction start time</td>\n",
       "    </tr>\n",
       "    <tr>\n",
       "      <th>14</th>\n",
       "      <td>PricingStrategy</td>\n",
       "      <td>Category of Xente's pricing structure for merc...</td>\n",
       "    </tr>\n",
       "    <tr>\n",
       "      <th>15</th>\n",
       "      <td>FraudResult</td>\n",
       "      <td>Fraud status of transaction 1 -yes or 0-No</td>\n",
       "    </tr>\n",
       "  </tbody>\n",
       "</table>\n",
       "</div>"
      ],
      "text/plain": [
       "             Column Name                                         Definition\n",
       "0          TransactionId         Unique �transaction identifier on platform\n",
       "1                BatchId  Unique number assigned to a batch of transacti...\n",
       "2              AccountId  Unique number identifying the customer on plat...\n",
       "3         SubscriptionId  Unique number identifying the customer subscri...\n",
       "4             CustomerId              Unique identifier attached to Account\n",
       "5           CurrencyCode                                   Country currency\n",
       "6            CountryCode             Numerical geographical code of country\n",
       "7             ProviderId                   Source provider of Item �bought.\n",
       "8              ProductId                            Item name being bought.\n",
       "9        ProductCategory  ProductIds are organized into these broader pr...\n",
       "10             ChannelId  Identifies if customer used web,Android, IOS, ...\n",
       "11                Amount  Value of the transaction. Positive for debits ...\n",
       "12                 Value                       Absolute value of the amount\n",
       "13  TransactionStartTime                             Transaction start time\n",
       "14       PricingStrategy  Category of Xente's pricing structure for merc...\n",
       "15           FraudResult         Fraud status of transaction 1 -yes or 0-No"
      ]
     },
     "execution_count": 4,
     "metadata": {},
     "output_type": "execute_result"
    }
   ],
   "source": [
    "# Display the first few rows of the dataset\n",
    "print(\"First few rows of the dataset:\")\n",
    "print(data.head())\n",
    "\n",
    "# Display variable definitions\n",
    "print(\"\\nVariable definitions:\")\n",
    "data_vd"
   ]
  },
  {
   "cell_type": "code",
   "execution_count": null,
   "id": "bc82db0e-32ba-4213-878c-ea59172e50dd",
   "metadata": {},
   "outputs": [],
   "source": [
    "#cleaning a data by removing columns that did not affect FraudResult which is the target column\n",
    "data1 = data.drop['CurrencyCode','CountryCode']"
   ]
  },
  {
   "cell_type": "code",
   "execution_count": null,
   "id": "25ef7a48-425d-461f-9623-b557b01b2e28",
   "metadata": {},
   "outputs": [],
   "source": [
    "#Adding proxy variable as a columun  \n",
    "# Define a function to categorize users based on the fraud result\n",
    "def categorize_risk(row):\n",
    "    if row['FraudResult'] == 1:\n",
    "        return 'High Risk'\n",
    "    else:\n",
    "        return 'Low Risk'\n",
    "\n",
    "# Apply the categorize_risk function to the DataFrame and create the RiskProfile column\n",
    "data['RiskProfile'] = data.apply(categorize_risk, axis=1)"
   ]
  },
  {
   "cell_type": "markdown",
   "id": "05a31d27-f203-47c8-8273-b519854ef7ba",
   "metadata": {},
   "source": [
    "Feature Engineering: Feature engineering is the process of creating new features (or variables) from the raw data that can better represent the underlying patterns and relationships in the data. This can involve tasks such as:\n",
    "1.Selecting the most relevant features from the raw data\n",
    "2.Transforming or combining existing features to create new, more informative features\n",
    "3.Encoding categorical variables into a numerical format that the model can understand\n",
    "4.Handling missing data, outliers, and other data quality issues"
   ]
  },
  {
   "cell_type": "markdown",
   "id": "56189af4-b253-48e6-b5bd-5aa7c322865e",
   "metadata": {},
   "source": [
    "<h1>Create Aggregate Features</h1>"
   ]
  },
  {
   "cell_type": "markdown",
   "id": "11139640-6c0c-4df0-b137-638f3463e341",
   "metadata": {},
   "source": [
    "Total Transaction Amount: "
   ]
  },
  {
   "cell_type": "code",
   "execution_count": 5,
   "id": "1d750267-13b2-4835-9183-e542145a2ad3",
   "metadata": {
    "tags": []
   },
   "outputs": [],
   "source": [
    "#Sum of all transaction amounts for each customer.\n"
   ]
  },
  {
   "cell_type": "markdown",
   "id": "e80d8be4-ac3f-43fc-b984-26584e5470ba",
   "metadata": {},
   "source": [
    "Average Transaction Amount: "
   ]
  },
  {
   "cell_type": "code",
   "execution_count": 6,
   "id": "d8fd1293-13fd-4270-beaa-6f89383617e2",
   "metadata": {},
   "outputs": [],
   "source": [
    "#Average transaction amount per customer.\n"
   ]
  },
  {
   "cell_type": "markdown",
   "id": "e4186a67-092a-408b-9697-449af4ad5cc8",
   "metadata": {},
   "source": [
    "Transaction Count:"
   ]
  },
  {
   "cell_type": "code",
   "execution_count": 7,
   "id": "ced55a1f-2042-4aa5-b45f-563bd735b878",
   "metadata": {},
   "outputs": [],
   "source": [
    "#Number of transactions per customer.\n"
   ]
  },
  {
   "cell_type": "markdown",
   "id": "5137308a-9366-43f4-a0e2-24409b8409fd",
   "metadata": {},
   "source": [
    "Standard Deviation of Transaction Amounts: "
   ]
  },
  {
   "cell_type": "code",
   "execution_count": 8,
   "id": "8851842c-bc07-462a-8cac-60ce731b30ce",
   "metadata": {},
   "outputs": [],
   "source": [
    "#Variability of transaction amounts per customer.\n"
   ]
  },
  {
   "cell_type": "markdown",
   "id": "dc8249ce-69f6-46a6-a5d7-9a5e267f1fa1",
   "metadata": {},
   "source": [
    "<h1>Extract Features</h1>"
   ]
  },
  {
   "cell_type": "code",
   "execution_count": 9,
   "id": "f75f4b2d-f09a-421c-b8b2-0b1ed4a04f24",
   "metadata": {
    "tags": []
   },
   "outputs": [],
   "source": [
    "#feature extraction.....transformationi \n",
    "# Determining the minimum and maximum dates in the dataset to find the range of years\n",
    "data['TransactionStartTime'] = pd.to_datetime(data['TransactionStartTime'])\n",
    "\n",
    "data['Year'] = data['TransactionStartTime'].dt.year\n",
    "data['Month'] = data['TransactionStartTime'].dt.month\n",
    "data['Day'] = data['TransactionStartTime'].dt.day\n",
    "data['Hour'] = data['TransactionStartTime'].dt.hour"
   ]
  },
  {
   "cell_type": "markdown",
   "id": "e25f667c-efdf-49ff-9ef6-7d1389b8fe45",
   "metadata": {},
   "source": [
    "<h1>Encode Categorical Variables</h1>"
   ]
  },
  {
   "cell_type": "code",
   "execution_count": null,
   "id": "c3c562a3-0b2b-435b-b3fb-b299d4c7b74e",
   "metadata": {},
   "outputs": [],
   "source": [
    "#feature transforming...encoding\n",
    "\n"
   ]
  },
  {
   "cell_type": "markdown",
   "id": "e2470a3c-db3b-45bb-8aee-a3120a5c5347",
   "metadata": {
    "tags": []
   },
   "source": [
    "<h1>Handle Missing Values</h1>"
   ]
  },
  {
   "cell_type": "code",
   "execution_count": 10,
   "id": "415c12aa-3220-4df5-bac8-d02a2730b1ca",
   "metadata": {
    "tags": []
   },
   "outputs": [
    {
     "data": {
      "text/plain": [
       "TransactionId           0\n",
       "BatchId                 0\n",
       "AccountId               0\n",
       "SubscriptionId          0\n",
       "CustomerId              0\n",
       "CurrencyCode            0\n",
       "CountryCode             0\n",
       "ProviderId              0\n",
       "ProductId               0\n",
       "ProductCategory         0\n",
       "ChannelId               0\n",
       "Amount                  0\n",
       "Value                   0\n",
       "TransactionStartTime    0\n",
       "PricingStrategy         0\n",
       "FraudResult             0\n",
       "Year                    0\n",
       "Month                   0\n",
       "Day                     0\n",
       "Hour                    0\n",
       "dtype: int64"
      ]
     },
     "execution_count": 10,
     "metadata": {},
     "output_type": "execute_result"
    }
   ],
   "source": [
    "\n",
    "#checking for missing values from the data set\n",
    "data.isnull().sum()"
   ]
  },
  {
   "cell_type": "markdown",
   "id": "471be22c-d9a9-4a29-8a71-b611f92f37fa",
   "metadata": {},
   "source": [
    "<h1>Normalize/Standardize Numerical Features</h1>"
   ]
  },
  {
   "cell_type": "markdown",
   "id": "179f821e-9042-4c0e-8f77-3fcc0224c20a",
   "metadata": {},
   "source": [
    "Min-Max Scaling (Normalization): Also known as feature scaling, this method rescales the features to a common range, typically between 0 and 1. The formula is: x_normalized = (x - min(x)) / (max(x) - min(x)).\n",
    "Standardization (Z-score Normalization): This method transforms the features to have a mean of 0 and a standard deviation of 1. The formula is: x_standardized = (x - mean(x)) / std(x)."
   ]
  },
  {
   "cell_type": "markdown",
   "id": "e07cf4ad-f835-476a-9582-a1a1fb1da137",
   "metadata": {},
   "source": [
    "Standardization"
   ]
  },
  {
   "cell_type": "code",
   "execution_count": 11,
   "id": "9fb5b87a-d862-478e-8062-b204fe2b10a6",
   "metadata": {},
   "outputs": [
    {
     "name": "stdout",
     "output_type": "stream",
     "text": [
      "              TransactionId         BatchId       AccountId  \\\n",
      "0       TransactionId_76871   BatchId_36123  AccountId_3957   \n",
      "1       TransactionId_73770   BatchId_15642  AccountId_4841   \n",
      "2       TransactionId_26203   BatchId_53941  AccountId_4229   \n",
      "3         TransactionId_380  BatchId_102363   AccountId_648   \n",
      "4       TransactionId_28195   BatchId_38780  AccountId_4841   \n",
      "...                     ...             ...             ...   \n",
      "95657   TransactionId_89881   BatchId_96668  AccountId_4841   \n",
      "95658   TransactionId_91597    BatchId_3503  AccountId_3439   \n",
      "95659   TransactionId_82501  BatchId_118602  AccountId_4841   \n",
      "95660  TransactionId_136354   BatchId_70924  AccountId_1346   \n",
      "95661   TransactionId_35670   BatchId_29317  AccountId_4841   \n",
      "\n",
      "            SubscriptionId       CustomerId CurrencyCode  CountryCode  \\\n",
      "0       SubscriptionId_887  CustomerId_4406          UGX          256   \n",
      "1      SubscriptionId_3829  CustomerId_4406          UGX          256   \n",
      "2       SubscriptionId_222  CustomerId_4683          UGX          256   \n",
      "3      SubscriptionId_2185   CustomerId_988          UGX          256   \n",
      "4      SubscriptionId_3829   CustomerId_988          UGX          256   \n",
      "...                    ...              ...          ...          ...   \n",
      "95657  SubscriptionId_3829  CustomerId_3078          UGX          256   \n",
      "95658  SubscriptionId_2643  CustomerId_3874          UGX          256   \n",
      "95659  SubscriptionId_3829  CustomerId_3874          UGX          256   \n",
      "95660   SubscriptionId_652  CustomerId_1709          UGX          256   \n",
      "95661  SubscriptionId_3829  CustomerId_1709          UGX          256   \n",
      "\n",
      "         ProviderId     ProductId     ProductCategory    ChannelId   Amount  \\\n",
      "0      ProviderId_6  ProductId_10             airtime  ChannelId_3   1000.0   \n",
      "1      ProviderId_4   ProductId_6  financial_services  ChannelId_2    -20.0   \n",
      "2      ProviderId_6   ProductId_1             airtime  ChannelId_3    500.0   \n",
      "3      ProviderId_1  ProductId_21        utility_bill  ChannelId_3  20000.0   \n",
      "4      ProviderId_4   ProductId_6  financial_services  ChannelId_2   -644.0   \n",
      "...             ...           ...                 ...          ...      ...   \n",
      "95657  ProviderId_4   ProductId_6  financial_services  ChannelId_2  -1000.0   \n",
      "95658  ProviderId_6  ProductId_10             airtime  ChannelId_3   1000.0   \n",
      "95659  ProviderId_4   ProductId_6  financial_services  ChannelId_2    -20.0   \n",
      "95660  ProviderId_6  ProductId_19                  tv  ChannelId_3   3000.0   \n",
      "95661  ProviderId_4   ProductId_6  financial_services  ChannelId_2    -60.0   \n",
      "\n",
      "       Value      TransactionStartTime  PricingStrategy  FraudResult  Year  \\\n",
      "0       1000 2018-11-15 02:18:49+00:00                2            0  2018   \n",
      "1         20 2018-11-15 02:19:08+00:00                2            0  2018   \n",
      "2        500 2018-11-15 02:44:21+00:00                2            0  2018   \n",
      "3      21800 2018-11-15 03:32:55+00:00                2            0  2018   \n",
      "4        644 2018-11-15 03:34:21+00:00                2            0  2018   \n",
      "...      ...                       ...              ...          ...   ...   \n",
      "95657   1000 2019-02-13 09:54:09+00:00                2            0  2019   \n",
      "95658   1000 2019-02-13 09:54:25+00:00                2            0  2019   \n",
      "95659     20 2019-02-13 09:54:35+00:00                2            0  2019   \n",
      "95660   3000 2019-02-13 10:01:10+00:00                2            0  2019   \n",
      "95661     60 2019-02-13 10:01:28+00:00                2            0  2019   \n",
      "\n",
      "       Month  Day  Hour  \n",
      "0         11   15     2  \n",
      "1         11   15     2  \n",
      "2         11   15     2  \n",
      "3         11   15     3  \n",
      "4         11   15     3  \n",
      "...      ...  ...   ...  \n",
      "95657      2   13     9  \n",
      "95658      2   13     9  \n",
      "95659      2   13     9  \n",
      "95660      2   13    10  \n",
      "95661      2   13    10  \n",
      "\n",
      "[95044 rows x 20 columns]\n"
     ]
    }
   ],
   "source": [
    "#feature scaling\n",
    "# Select numerical columns from the dataframe\n",
    "numerical_columns = data.select_dtypes(include=['float64', 'int64'])\n",
    "\n",
    "from scipy import stats\n",
    "from scikit-learn import maxmin\n",
    "\n",
    "#Normalizing(Min-Max Scaling)\n",
    "\n",
    "\n",
    "#Standardazing(Z-score)\n",
    "# Calculate the Z-scores for each numerical column\n",
    "z_scores = stats.zscore(data[numerical_columns.columns])\n",
    "\n",
    "# Define a threshold for outlier detection\n",
    "threshold = 3\n",
    "\n",
    "# Find the indices of the outliers\n",
    "outlier_indices = np.where(np.abs(z_scores) > threshold)\n",
    "\n",
    "# Remove the outliers from the dataframe\n",
    "data_without_outliers = data.drop(outlier_indices[0])\n",
    "\n",
    "# Print the updated dataframe without outliers\n",
    "print(data_without_outliers)"
   ]
  },
  {
   "cell_type": "code",
   "execution_count": null,
   "id": "377aa790-70b1-42fd-80ab-c81bc81d904a",
   "metadata": {},
   "outputs": [],
   "source": []
  }
 ],
 "metadata": {
  "kernelspec": {
   "display_name": "Python 3 (ipykernel)",
   "language": "python",
   "name": "python3"
  },
  "language_info": {
   "codemirror_mode": {
    "name": "ipython",
    "version": 3
   },
   "file_extension": ".py",
   "mimetype": "text/x-python",
   "name": "python",
   "nbconvert_exporter": "python",
   "pygments_lexer": "ipython3",
   "version": "3.11.5"
  }
 },
 "nbformat": 4,
 "nbformat_minor": 5
}
